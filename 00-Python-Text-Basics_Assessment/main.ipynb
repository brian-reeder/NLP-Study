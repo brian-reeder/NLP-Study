{
 "cells": [
  {
   "cell_type": "markdown",
   "metadata": {},
   "source": [
    "# Python - Text Basics: Assessment\n",
    "\n",
    "## 1. Print an f-string that displays \"NLP stands for Natural Language Processing\"using the variables provided.\n",
    "\n",
    "```python\n",
    "#!/usr/bin/python3\n",
    "abbr = \"NLP\"\n",
    "full_text = \"Natural Language Processing\"\n",
    "```"
   ]
  },
  {
   "cell_type": "code",
   "execution_count": 7,
   "metadata": {},
   "outputs": [
    {
     "name": "stdout",
     "output_type": "stream",
     "text": [
      "NLP stands for Natural Language Processing\n"
     ]
    }
   ],
   "source": [
    "abbr = \"NLP\"\n",
    "full_text = \"Natural Language Processing\"\n",
    "\n",
    "print(f\"{abbr} stands for {full_text}\")"
   ]
  },
  {
   "cell_type": "markdown",
   "metadata": {},
   "source": [
    "# Files\n",
    "\n",
    "## 2. Create a file in the current working directory by running the cell below:\n",
    "\n",
    "```bash\n",
    "%%writefile contacts.txt\n",
    "First_Name Last_Name, Title, Extension, Email\n",
    "```"
   ]
  },
  {
   "cell_type": "code",
   "execution_count": 8,
   "metadata": {},
   "outputs": [
    {
     "name": "stdout",
     "output_type": "stream",
     "text": [
      "Overwriting contacts.txt\n"
     ]
    }
   ],
   "source": [
    "%%writefile contacts.txt\n",
    "First_Name Last_Name, Title, Extension, Email"
   ]
  },
  {
   "cell_type": "markdown",
   "metadata": {},
   "source": [
    "## 3. Open the file, and use .read() to save the contents of the file to aa string called fields. Make sure the file is closed at the end."
   ]
  },
  {
   "cell_type": "code",
   "execution_count": 9,
   "metadata": {},
   "outputs": [
    {
     "name": "stdout",
     "output_type": "stream",
     "text": [
      "First_Name Last_Name, Title, Extension, Email\n",
      "\n"
     ]
    }
   ],
   "source": [
    "with open('contacts.txt', 'r') as contacts_fp:\n",
    "    fields = contacts_fp.read()\n",
    "    contacts_fp.close()\n",
    "\n",
    "print(fields)"
   ]
  },
  {
   "cell_type": "markdown",
   "metadata": {},
   "source": [
    "## 4. Use PyPDF2 to open the file Business_Proposal.pdf. Extract the text of page 2."
   ]
  },
  {
   "cell_type": "code",
   "execution_count": 10,
   "metadata": {},
   "outputs": [
    {
     "name": "stdout",
     "output_type": "stream",
     "text": [
      "AUTHORS:  \n",
      "Amy Baker, Finance Chair, x345, abaker@ourcompany.com  \n",
      "Chris Donaldson, Accounting Dir., x621, cdonaldson@ourcompany.com  \n",
      "Erin Freeman, Sr. VP, x879, efreeman@ourcompany.com  \n"
     ]
    }
   ],
   "source": [
    "import PyPDF2\n",
    "\n",
    "with open('Business_Proposal.pdf', 'rb') as pdf_fp:\n",
    "    page_two_text = PyPDF2.PdfReader(pdf_fp).pages[1].extract_text()\n",
    "    pdf_fp.close()\n",
    "\n",
    "print(page_two_text)"
   ]
  },
  {
   "cell_type": "markdown",
   "metadata": {},
   "source": [
    "## 5. Open the contacts.txt file in append mode. Add the text from page 2 to the end of contacts.txt\n",
    "\n",
    "## CHALLENGE: See if you can remove the word \"AUTHORS\""
   ]
  },
  {
   "cell_type": "code",
   "execution_count": 16,
   "metadata": {},
   "outputs": [],
   "source": [
    "with open('contacts.txt', '+a') as txt_fp:\n",
    "    s = '\\n'.join(page_two_text.split('\\n')[1:])\n",
    "    txt_fp.write(s)\n",
    "    txt_fp.close()\n"
   ]
  },
  {
   "cell_type": "markdown",
   "metadata": {},
   "source": [
    "## 6. Using the Page 2 text variable created above, extract any email addresses that were contained in the file Business_Proposal.pdf"
   ]
  },
  {
   "cell_type": "code",
   "execution_count": 33,
   "metadata": {},
   "outputs": [
    {
     "data": {
      "text/plain": [
       "['abaker@ourcompany.com',\n",
       " 'cdonaldson@ourcompany.com',\n",
       " 'efreeman@ourcompany.com']"
      ]
     },
     "execution_count": 33,
     "metadata": {},
     "output_type": "execute_result"
    }
   ],
   "source": [
    "import re\n",
    "\n",
    "pattern = r'[^\\s]+\\@[^\\s]+\\.[^\\s]+'\n",
    "re.findall(pattern, page_two_text)"
   ]
  }
 ],
 "metadata": {
  "kernelspec": {
   "display_name": ".venv",
   "language": "python",
   "name": "python3"
  },
  "language_info": {
   "codemirror_mode": {
    "name": "ipython",
    "version": 3
   },
   "file_extension": ".py",
   "mimetype": "text/x-python",
   "name": "python",
   "nbconvert_exporter": "python",
   "pygments_lexer": "ipython3",
   "version": "3.11.6"
  }
 },
 "nbformat": 4,
 "nbformat_minor": 2
}
